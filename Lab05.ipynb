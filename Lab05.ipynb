{
  "nbformat": 4,
  "nbformat_minor": 0,
  "metadata": {
    "colab": {
      "provenance": [],
      "toc_visible": true,
      "include_colab_link": true
    },
    "kernelspec": {
      "name": "python3",
      "display_name": "Python 3"
    },
    "accelerator": "GPU",
    "gpuClass": "standard"
  },
  "cells": [
    {
      "cell_type": "markdown",
      "metadata": {
        "id": "view-in-github",
        "colab_type": "text"
      },
      "source": [
        "<a href=\"https://colab.research.google.com/github/MissCrispenCakes/ml_labs/blob/patch-1/Lab05.ipynb\" target=\"_parent\"><img src=\"https://colab.research.google.com/assets/colab-badge.svg\" alt=\"Open In Colab\"/></a>"
      ]
    },
    {
      "cell_type": "markdown",
      "metadata": {
        "id": "hbud_VembfGr"
      },
      "source": [
        "# Lab 5\n",
        "---"
      ]
    },
    {
      "cell_type": "code",
      "metadata": {
        "id": "JbvVDwMPTwt9"
      },
      "source": [
        "import keras\n",
        "keras.__version__"
      ],
      "execution_count": null,
      "outputs": []
    },
    {
      "cell_type": "code",
      "source": [
        "import gc"
      ],
      "metadata": {
        "id": "3_DvOpIkazqV"
      },
      "execution_count": null,
      "outputs": []
    },
    {
      "cell_type": "markdown",
      "metadata": {
        "id": "AG2CUuJ-aJf0"
      },
      "source": [
        "# Overfitting and underfitting"
      ]
    },
    {
      "cell_type": "markdown",
      "metadata": {
        "id": "NdGqBYd2Txwe"
      },
      "source": [
        "This notebook contains the code samples found in Chapter 3, Section 6 of [Deep Learning with Python](https://www.manning.com/books/deep-learning-with-python?a_aid=keras&a_bid=76564dff). Note that the original text features far more content, in particular further explanations and figures: in this notebook, you will only find source code and related comments.\n",
        "\n",
        "----\n",
        "\n",
        "\n",
        "In all the examples we saw in the previous chapter -- movie review sentiment prediction, topic classification, and house price regression -- \n",
        "we could notice that the performance of our model on the held-out validation data would always peak after a few epochs and would then start \n",
        "degrading, i.e. our model would quickly start to _overfit_ to the training data. Overfitting happens in every single machine learning \n",
        "problem. Learning how to deal with overfitting is essential to mastering machine learning.\n",
        "\n",
        "The fundamental issue in machine learning is the tension between optimization and generalization. \"Optimization\" refers to the process of \n",
        "adjusting a model to get the best performance possible on the training data (the \"learning\" in \"machine learning\"), while \"generalization\" \n",
        "refers to how well the trained model would perform on data it has never seen before. The goal of the game is to get good generalization, of \n",
        "course, but you do not control generalization; you can only adjust the model based on its training data.\n",
        "\n",
        "\n",
        "\n",
        "---\n",
        "\n",
        "\n",
        "At the **beginning of training, optimization and generalization are correlated**: the lower your loss on training data, the lower your loss on \n",
        "test data. While this is happening, **your model is said to be _under-fit_**: there is still progress to be made; the network hasn't yet modeled all relevant patterns in the training data.\n",
        "\n",
        "**After a certain number of iterations on the training data, generalization stops improving**: validation metrics stall then start degrading. **The model is starting to _over-fit_**: it is starting to learn patterns that are specific to the training data but that are misleading or irrelevant when it comes to new data.\n",
        "\n",
        "\n",
        "\n",
        "---\n",
        "\n",
        "\n",
        "\n",
        "To prevent a model from learning misleading or irrelevant patterns found in the training data, _the best solution is of course to get \n",
        "more training data_. A model trained on more data will naturally generalize better. When that is no longer possible, the next best solution \n",
        "is to modulate the quantity of information that your model is allowed to store, or to add constraints on what information it is allowed to \n",
        "store. If a network can only afford to memorize a small number of patterns, the optimization process will force it to focus on the most \n",
        "prominent patterns, which have a better chance of generalizing well.\n",
        "\n",
        "The processing of fighting overfitting in this way is called _regularization_. Let's review some of the most common regularization \n",
        "techniques, and let's apply them in practice to improve our movie classification model from  the previous chapter."
      ]
    },
    {
      "cell_type": "markdown",
      "metadata": {
        "id": "Infcd4IWT3KZ"
      },
      "source": [
        "Note: in this notebook we will be using the IMDB test set as our validation set. It doesn't matter in this context.\n",
        "\n",
        "Let's prepare the data using the code from Chapter 3, Section 5:"
      ]
    },
    {
      "cell_type": "code",
      "metadata": {
        "id": "70GU6JLOT4oQ"
      },
      "source": [
        "from keras.datasets import imdb\n",
        "import numpy as np\n",
        "\n",
        "(train_data, train_labels), (test_data, test_labels) = imdb.load_data(num_words=10000)\n",
        "\n",
        "def vectorize_sequences(sequences, dimension=10000): #10000\n",
        "    # Create an all-zero matrix of shape (len(sequences), dimension)\n",
        "    results = np.zeros((len(sequences), dimension))\n",
        "    for i, sequence in enumerate(sequences):\n",
        "        results[i, sequence] = 1.  # set specific indices of results[i] to 1s\n",
        "    return results\n",
        "\n",
        "# Our vectorized training data\n",
        "x_train = vectorize_sequences(train_data)\n",
        "# Our vectorized test data\n",
        "x_test = vectorize_sequences(test_data)\n",
        "# Our vectorized labels\n",
        "y_train = np.asarray(train_labels).astype('float32')\n",
        "y_test = np.asarray(test_labels).astype('float32')"
      ],
      "execution_count": null,
      "outputs": []
    },
    {
      "cell_type": "markdown",
      "metadata": {
        "id": "65TT0I6aaYkb"
      },
      "source": [
        "# Fighting overfitting"
      ]
    },
    {
      "cell_type": "markdown",
      "metadata": {
        "id": "qNwJl7lzbqpe"
      },
      "source": [
        "## Reducing the network's size"
      ]
    },
    {
      "cell_type": "markdown",
      "metadata": {
        "id": "2a7sE49tT8Tj"
      },
      "source": [
        "The simplest way to prevent overfitting is to reduce the size of the model, i.e. the number of learnable parameters in the model (which is \n",
        "determined by the number of layers and the number of units per layer). In deep learning, the number of learnable parameters in a model is \n",
        "often referred to as the model's \"capacity\". Intuitively, a model with more parameters will have more \"memorization capacity\" and therefore \n",
        "will be able to easily learn a perfect dictionary-like mapping between training samples and their targets, a mapping without any \n",
        "generalization power. For instance, a model with 500,000 binary parameters could easily be made to learn the class of every digits in the \n",
        "MNIST training set: we would only need 10 binary parameters for each of the 50,000 digits. Such a model would be useless for classifying \n",
        "new digit samples. Always keep this in mind: deep learning models tend to be good at fitting to the training data, but the real challenge \n",
        "is generalization, not fitting.\n",
        "\n",
        "On the other hand, if the network has limited memorization resources, it will not be able to learn this mapping as easily, and thus, in \n",
        "order to minimize its loss, it will have to resort to learning compressed representations that have predictive power regarding the targets \n",
        "-- precisely the type of representations that we are interested in. At the same time, keep in mind that you should be using models that have \n",
        "enough parameters that they won't be underfitting: your model shouldn't be starved for memorization resources. There is a compromise to be \n",
        "found between \"too much capacity\" and \"not enough capacity\".\n",
        "\n",
        "Unfortunately, there is no magical formula to determine what the right number of layers is, or what the right size for each layer is. You \n",
        "will have to evaluate an array of different architectures (on your validation set, not on your test set, of course) in order to find the \n",
        "right model size for your data. The general workflow to find an appropriate model size is to start with relatively few layers and \n",
        "parameters, and start increasing the size of the layers or adding new layers until you see diminishing returns with regard to the \n",
        "validation loss.\n",
        "\n",
        "Let's try this on our movie review classification network. Our original network was as such:"
      ]
    },
    {
      "cell_type": "code",
      "metadata": {
        "id": "gbJY5fuCT-AV"
      },
      "source": [
        "from keras import models\n",
        "from keras import layers\n",
        "\n",
        "original_model = models.Sequential()\n",
        "original_model.add(layers.Dense(16, activation='relu', input_shape=(10000,)))\n",
        "original_model.add(layers.Dense(16, activation='relu'))\n",
        "original_model.add(layers.Dense(1, activation='sigmoid'))\n",
        "\n",
        "original_model.compile(optimizer='rmsprop',\n",
        "                       loss='binary_crossentropy',\n",
        "                       metrics=['acc'])"
      ],
      "execution_count": null,
      "outputs": []
    },
    {
      "cell_type": "markdown",
      "metadata": {
        "id": "QYS_Jr-DT_QS"
      },
      "source": [
        "Now let's try to replace it with this smaller network:"
      ]
    },
    {
      "cell_type": "code",
      "metadata": {
        "id": "Letba-oBUAZy"
      },
      "source": [
        "smaller_model = models.Sequential()\n",
        "smaller_model.add(layers.Dense(4, activation='relu', input_shape=(10000,)))\n",
        "smaller_model.add(layers.Dense(4, activation='relu'))\n",
        "smaller_model.add(layers.Dense(1, activation='sigmoid'))\n",
        "\n",
        "smaller_model.compile(optimizer='rmsprop',\n",
        "                      loss='binary_crossentropy',\n",
        "                      metrics=['acc'])"
      ],
      "execution_count": null,
      "outputs": []
    },
    {
      "cell_type": "code",
      "metadata": {
        "id": "EtiVTaj-UIzY"
      },
      "source": [
        "original_hist = original_model.fit(x_train, y_train,\n",
        "                                   epochs=20,\n",
        "                                   batch_size=512,\n",
        "                                   validation_data=(x_test, y_test))"
      ],
      "execution_count": null,
      "outputs": []
    },
    {
      "cell_type": "code",
      "source": [
        "gc.collect()"
      ],
      "metadata": {
        "id": "5jiH7roVbg5a"
      },
      "execution_count": null,
      "outputs": []
    },
    {
      "cell_type": "code",
      "metadata": {
        "id": "hHKHO79pUJoG"
      },
      "source": [
        "smaller_model_hist = smaller_model.fit(x_train, y_train,\n",
        "                                       epochs=20,\n",
        "                                       batch_size=512,\n",
        "                                       validation_data=(x_test, y_test))"
      ],
      "execution_count": null,
      "outputs": []
    },
    {
      "cell_type": "code",
      "source": [
        "gc.collect()"
      ],
      "metadata": {
        "id": "-92wjVXvbjF3"
      },
      "execution_count": null,
      "outputs": []
    },
    {
      "cell_type": "code",
      "metadata": {
        "id": "MoI1_0aQUMIv"
      },
      "source": [
        "epochs = range(1, 21)\n",
        "original_val_loss = original_hist.history['val_loss']\n",
        "smaller_model_val_loss = smaller_model_hist.history['val_loss']"
      ],
      "execution_count": null,
      "outputs": []
    },
    {
      "cell_type": "markdown",
      "metadata": {
        "id": "x2KkGesoUHma"
      },
      "source": [
        "\n",
        "Here's a comparison of the validation losses of the original network and the smaller network. The dots are the validation loss values of \n",
        "the smaller network, and the crosses are the initial network (remember: a lower validation loss signals a better model)."
      ]
    },
    {
      "cell_type": "code",
      "metadata": {
        "id": "wpv1ipwZUTWU"
      },
      "source": [
        "import seaborn as sns\n",
        "import matplotlib.pyplot as plt\n",
        "\n",
        "def modelplot_Small():\n",
        "  sns.scatterplot(x=epochs, y=original_val_loss, color=\"b\", marker='x', label='Original model')\n",
        "  sns.scatterplot(x=epochs, y=smaller_model_val_loss, color=\"b\", marker='o', label='Smaller model')\n",
        "  plt.xlabel('Epochs')\n",
        "  plt.ylabel('Validation loss')\n",
        "  plt.legend()\n",
        "\n",
        "modelplot_Small()"
      ],
      "execution_count": null,
      "outputs": []
    },
    {
      "cell_type": "markdown",
      "metadata": {
        "id": "4h73tiCEUVxE"
      },
      "source": [
        "\n",
        "As you can see, the smaller network starts overfitting later than the reference one (after 6 epochs rather than 4) and its performance \n",
        "degrades much more slowly once it starts overfitting.\n",
        "\n",
        "Now, for kicks, let's add to this benchmark a network that has much more capacity, far more than the problem would warrant:"
      ]
    },
    {
      "cell_type": "code",
      "metadata": {
        "id": "jfSROzwCUXAa"
      },
      "source": [
        "bigger_model = models.Sequential()\n",
        "bigger_model.add(layers.Dense(512, activation='relu', input_shape=(10000,)))\n",
        "bigger_model.add(layers.Dense(512, activation='relu'))\n",
        "bigger_model.add(layers.Dense(1, activation='sigmoid'))\n",
        "\n",
        "bigger_model.compile(optimizer='rmsprop',\n",
        "                     loss='binary_crossentropy',\n",
        "                     metrics=['acc'])"
      ],
      "execution_count": null,
      "outputs": []
    },
    {
      "cell_type": "code",
      "metadata": {
        "id": "vH_r-Bc3UYkE"
      },
      "source": [
        "bigger_model_hist = bigger_model.fit(x_train, y_train,\n",
        "                                     epochs=20,\n",
        "                                     batch_size=512,\n",
        "                                     validation_data=(x_test, y_test))"
      ],
      "execution_count": null,
      "outputs": []
    },
    {
      "cell_type": "code",
      "source": [
        "gc.collect()"
      ],
      "metadata": {
        "id": "feBzCLCXbmpm"
      },
      "execution_count": null,
      "outputs": []
    },
    {
      "cell_type": "markdown",
      "metadata": {
        "id": "XXE6L0r3UapA"
      },
      "source": [
        "Here's how the bigger network fares compared to the reference one. The dots are the validation loss values of the bigger network, and the \n",
        "crosses are the initial network."
      ]
    },
    {
      "cell_type": "code",
      "metadata": {
        "id": "BOjYknAUUbky"
      },
      "source": [
        "bigger_model_val_loss = bigger_model_hist.history['val_loss']\n",
        "\n",
        "def modelplot_Big():\n",
        "  # f, ax = plt.subplots(figsize=(8,6))\n",
        "  # sns.despine()\n",
        "  sns.scatterplot(x=epochs, y=original_val_loss, color=\"b\", marker='x', label='Original model')\n",
        "  sns.scatterplot(x=epochs, y=bigger_model_val_loss, color=\"b\", marker='o', label='Bigger model')\n",
        "  plt.xlabel('Epochs')\n",
        "  plt.ylabel('Validation loss')\n",
        "  plt.legend()\n",
        "\n",
        "modelplot_Big()"
      ],
      "execution_count": null,
      "outputs": []
    },
    {
      "cell_type": "markdown",
      "metadata": {
        "id": "GtjFIQR9WNX0"
      },
      "source": [
        "\n",
        "The bigger network starts overfitting almost right away, after just one epoch, and overfits much more severely. Its validation loss is also \n",
        "more noisy.\n",
        "\n",
        "Meanwhile, here are the training losses for our two networks:"
      ]
    },
    {
      "cell_type": "code",
      "metadata": {
        "id": "V5LBeXpoWOfO"
      },
      "source": [
        "original_train_loss = original_hist.history['loss']\n",
        "bigger_model_train_loss = bigger_model_hist.history['loss']\n",
        "smaller_model_train_loss = smaller_model_hist.history['loss']\n",
        "\n",
        "def modelplot_Train():\n",
        "  sns.scatterplot(x=epochs, y=original_train_loss, color=\"b\", marker='x', label='Original model')\n",
        "  sns.scatterplot(x=epochs, y=bigger_model_train_loss, color=\"b\", marker='o', label='Bigger model')\n",
        "  plt.xlabel('Epochs')\n",
        "  plt.ylabel('Training loss')\n",
        "  plt.legend()\n",
        "\n",
        "modelplot_Train()"
      ],
      "execution_count": null,
      "outputs": []
    },
    {
      "cell_type": "markdown",
      "metadata": {
        "id": "Cy05NCiSWPtw"
      },
      "source": [
        "As you can see, the bigger network gets its training loss near zero very quickly. The more capacity the network has, the quicker it will be \n",
        "able to model the training data (resulting in a low training loss), but the more susceptible it is to overfitting (resulting in a large \n",
        "difference between the training and validation loss)."
      ]
    },
    {
      "cell_type": "markdown",
      "metadata": {
        "id": "-3UfR0zGawbr"
      },
      "source": [
        "## Adding weight regularization"
      ]
    },
    {
      "cell_type": "markdown",
      "metadata": {
        "id": "oLvj5uP3WQkF"
      },
      "source": [
        "You may be familiar with _Occam's Razor_ principle: given two explanations for something, the explanation most likely to be correct is the \n",
        "\"simplest\" one, the one that makes the least amount of assumptions. This also applies to the models learned by neural networks: given some \n",
        "training data and a network architecture, there are multiple sets of weights values (multiple _models_) that could explain the data, and \n",
        "simpler models are less likely to overfit than complex ones.\n",
        "\n",
        "A \"simple model\" in this context is a model where the distribution of parameter values has less entropy (or a model with fewer \n",
        "parameters altogether, as we saw in the section above). Thus a common way to mitigate overfitting is to put constraints on the complexity \n",
        "of a network by forcing its weights to only take small values, which makes the distribution of weight values more \"regular\". This is called \n",
        "\"weight regularization\", and it is done by adding to the loss function of the network a _cost_ associated with having large weights. This \n",
        "cost comes in two flavors:\n",
        "\n",
        "* L1 regularization, where the cost added is proportional to the _absolute value of the weights coefficients_ (i.e. to what is called the \n",
        "\"L1 norm\" of the weights).\n",
        "* L2 regularization, where the cost added is proportional to the _square of the value of the weights coefficients_ (i.e. to what is called \n",
        "the \"L2 norm\" of the weights). L2 regularization is also called _weight decay_ in the context of neural networks. Don't let the different \n",
        "name confuse you: weight decay is mathematically the exact same as L2 regularization.\n",
        "\n",
        "In Keras, weight regularization is added by passing _weight regularizer instances_ to layers as keyword arguments. Let's add L2 weight \n",
        "regularization to our movie review classification network:"
      ]
    },
    {
      "cell_type": "code",
      "metadata": {
        "id": "hGW4djnaWRz2"
      },
      "source": [
        "from keras import regularizers\n",
        "\n",
        "l2_model = models.Sequential()\n",
        "l2_model.add(layers.Dense(16, kernel_regularizer=regularizers.l2(0.001),\n",
        "                          activation='relu', input_shape=(10000,)))\n",
        "l2_model.add(layers.Dense(16, kernel_regularizer=regularizers.l2(0.001),\n",
        "                          activation='relu'))\n",
        "l2_model.add(layers.Dense(1, activation='sigmoid'))"
      ],
      "execution_count": null,
      "outputs": []
    },
    {
      "cell_type": "code",
      "metadata": {
        "id": "IcW4-QyvWSc7"
      },
      "source": [
        "l2_model.compile(optimizer='rmsprop',\n",
        "                 loss='binary_crossentropy',\n",
        "                 metrics=['acc'])"
      ],
      "execution_count": null,
      "outputs": []
    },
    {
      "cell_type": "markdown",
      "metadata": {
        "id": "1tVNezvuWZJN"
      },
      "source": [
        "`l2(0.001)` means that every coefficient in the weight matrix of the layer will add `0.001 * weight_coefficient_value` to the total loss of \n",
        "the network. Note that because this penalty is _only added at training time_, the loss for this network will be much higher at training \n",
        "than at test time.\n",
        "\n",
        "Here's the impact of our L2 regularization penalty:"
      ]
    },
    {
      "cell_type": "code",
      "metadata": {
        "id": "Ic3RU4m0WbjR"
      },
      "source": [
        "l2_model_hist = l2_model.fit(x_train, y_train,\n",
        "                             epochs=20,\n",
        "                             batch_size=512,\n",
        "                             validation_data=(x_test, y_test))"
      ],
      "execution_count": null,
      "outputs": []
    },
    {
      "cell_type": "code",
      "source": [
        "gc.collect()"
      ],
      "metadata": {
        "id": "VyO-wSoRbrAX"
      },
      "execution_count": null,
      "outputs": []
    },
    {
      "cell_type": "code",
      "metadata": {
        "id": "eK8EKmk6Wduo"
      },
      "source": [
        "l2_model_val_loss = l2_model_hist.history['val_loss']\n",
        "\n",
        "def modelplot_L2():\n",
        "  sns.scatterplot(x=epochs, y=original_val_loss, color=\"b\", marker='x', label='Original model')\n",
        "  sns.scatterplot(x=epochs, y=l2_model_val_loss, color=\"b\", marker='o', label='L2-regularized model')\n",
        "  plt.xlabel('Epochs')\n",
        "  plt.ylabel('Validation loss')\n",
        "  plt.legend()\n",
        "\n",
        "modelplot_L2()"
      ],
      "execution_count": null,
      "outputs": []
    },
    {
      "cell_type": "markdown",
      "metadata": {
        "id": "3YXXn3TJWet0"
      },
      "source": [
        "\n",
        "\n",
        "As you can see, the model with L2 regularization (dots) has become much more resistant to overfitting than the reference model (crosses), \n",
        "even though both models have the same number of parameters.\n",
        "\n",
        "As alternatives to L2 regularization, you could use one of the following Keras weight regularizers:"
      ]
    },
    {
      "cell_type": "code",
      "metadata": {
        "id": "5bXZG6SCWf2B"
      },
      "source": [
        "from keras import regularizers\n",
        "\n",
        "# L1 regularization\n",
        "regularizers.l1(0.001)\n",
        "\n",
        "# L1 and L2 regularization at the same time\n",
        "regularizers.l1_l2(l1=0.001, l2=0.001)"
      ],
      "execution_count": null,
      "outputs": []
    },
    {
      "cell_type": "code",
      "metadata": {
        "id": "sRjEst_wxdsX"
      },
      "source": [
        "l1_model = models.Sequential()\n",
        "l1_model.add(layers.Dense(16, kernel_regularizer=regularizers.l1(0.001),\n",
        "                          activation='relu', input_shape=(10000,)))\n",
        "l1_model.add(layers.Dense(16, kernel_regularizer=regularizers.l1(0.001),\n",
        "                          activation='relu'))\n",
        "l1_model.add(layers.Dense(1, activation='sigmoid'))"
      ],
      "execution_count": null,
      "outputs": []
    },
    {
      "cell_type": "code",
      "metadata": {
        "id": "Zeyoe8TIxkkL"
      },
      "source": [
        "l1_model.compile(optimizer='rmsprop',\n",
        "                 loss='binary_crossentropy',\n",
        "                 metrics=['acc'])"
      ],
      "execution_count": null,
      "outputs": []
    },
    {
      "cell_type": "code",
      "metadata": {
        "id": "uV9RcPALx9uw"
      },
      "source": [
        "l1_model_hist = l1_model.fit(x_train, y_train,\n",
        "                             epochs=20,\n",
        "                             batch_size=512,\n",
        "                             validation_data=(x_test, y_test))"
      ],
      "execution_count": null,
      "outputs": []
    },
    {
      "cell_type": "code",
      "source": [
        "gc.collect()"
      ],
      "metadata": {
        "id": "t_i_a9AQbtUk"
      },
      "execution_count": null,
      "outputs": []
    },
    {
      "cell_type": "code",
      "metadata": {
        "id": "h8ixU35xyGx5"
      },
      "source": [
        "l1_model_val_loss = l1_model_hist.history['val_loss']\n",
        "\n",
        "def modelplot_L1():\n",
        "  sns.scatterplot(x=epochs, y=original_val_loss, color=\"b\", marker='x', label='Original model')\n",
        "  sns.scatterplot(x=epochs, y=l1_model_val_loss, color=\"b\", marker='o', label='L1-regularized model')\n",
        "  plt.xlabel('Epochs')\n",
        "  plt.ylabel('Validation loss')\n",
        "  plt.legend()\n",
        "\n",
        "modelplot_L1()"
      ],
      "execution_count": null,
      "outputs": []
    },
    {
      "cell_type": "code",
      "metadata": {
        "id": "Pj7DDJ7Yxk4N"
      },
      "source": [
        "l12_model = models.Sequential()\n",
        "l12_model.add(layers.Dense(16, kernel_regularizer=regularizers.l1_l2(l1=0.001, l2=0.001),\n",
        "                          activation='relu', input_shape=(10000,)))\n",
        "l12_model.add(layers.Dense(16, kernel_regularizer=regularizers.l1_l2(l1=0.001, l2=0.001),\n",
        "                          activation='relu'))\n",
        "l12_model.add(layers.Dense(1, activation='sigmoid'))"
      ],
      "execution_count": null,
      "outputs": []
    },
    {
      "cell_type": "code",
      "metadata": {
        "id": "WMwHU_Hbx4Ld"
      },
      "source": [
        "l12_model.compile(optimizer='rmsprop',\n",
        "                 loss='binary_crossentropy',\n",
        "                 metrics=['acc'])"
      ],
      "execution_count": null,
      "outputs": []
    },
    {
      "cell_type": "code",
      "metadata": {
        "id": "dTmM_5TOyAjc"
      },
      "source": [
        "l12_model_hist = l12_model.fit(x_train, y_train,\n",
        "                             epochs=20,\n",
        "                             batch_size=512,\n",
        "                             validation_data=(x_test, y_test))"
      ],
      "execution_count": null,
      "outputs": []
    },
    {
      "cell_type": "code",
      "source": [
        "gc.collect()"
      ],
      "metadata": {
        "id": "oMuR_uWVdu_R"
      },
      "execution_count": null,
      "outputs": []
    },
    {
      "cell_type": "code",
      "metadata": {
        "id": "4aItEQzAyHlh"
      },
      "source": [
        "l12_model_val_loss = l12_model_hist.history['val_loss']\n",
        "\n",
        "def modelplot_L12():\n",
        "  sns.scatterplot(x=epochs, y=original_val_loss, color=\"b\", marker='x', label='Original model')\n",
        "  sns.scatterplot(x=epochs, y=l12_model_val_loss, color=\"b\", marker='o', label='L12-regularized model')\n",
        "  plt.xlabel('Epochs')\n",
        "  plt.ylabel('Validation loss')\n",
        "  plt.legend()\n",
        "\n",
        "modelplot_L12()"
      ],
      "execution_count": null,
      "outputs": []
    },
    {
      "cell_type": "markdown",
      "metadata": {
        "id": "KTsDikb3aqih"
      },
      "source": [
        "## Adding dropout"
      ]
    },
    {
      "cell_type": "markdown",
      "metadata": {
        "id": "Tb-5-SLIWhvt"
      },
      "source": [
        "Dropout is one of the most effective and most commonly used regularization techniques for neural networks, developed by Hinton and his \n",
        "students at the University of Toronto. Dropout, applied to a layer, consists of randomly \"dropping out\" (i.e. setting to zero) a number of \n",
        "output features of the layer during training. Let's say a given layer would normally have returned a vector `[0.2, 0.5, 1.3, 0.8, 1.1]` for a \n",
        "given input sample during training; after applying dropout, this vector will have a few zero entries distributed at random, e.g. `[0, 0.5, \n",
        "1.3, 0, 1.1]`. The \"dropout rate\" is the fraction of the features that are being zeroed-out; it is usually set between 0.2 and 0.5. At test \n",
        "time, no units are dropped out, and instead the layer's output values are scaled down by a factor equal to the dropout rate, so as to \n",
        "balance for the fact that more units are active than at training time.\n",
        "\n",
        "Consider a Numpy matrix containing the output of a layer, `layer_output`, of shape `(batch_size, features)`. At training time, we would be \n",
        "zero-ing out at random a fraction of the values in the matrix:"
      ]
    },
    {
      "cell_type": "code",
      "metadata": {
        "id": "uOtnV8nkYNjZ"
      },
      "source": [
        "## CODE SNIPPET\n",
        "## At training time: we drop out 50% of the units in the output\n",
        "#\n",
        "# layer_output *= np.randint(0, high=2, size=layer_output.shape)\n",
        "#"
      ],
      "execution_count": null,
      "outputs": []
    },
    {
      "cell_type": "markdown",
      "metadata": {
        "id": "QjA6FK0-Wnfp"
      },
      "source": [
        "\n",
        "At test time, we would be scaling the output down by the dropout rate. Here we scale by 0.5 (because we were previous dropping half the \n",
        "units):"
      ]
    },
    {
      "cell_type": "code",
      "metadata": {
        "id": "-d-Sm7ziWoiJ"
      },
      "source": [
        "## CODE SNIPPET\n",
        "## At test time:\n",
        "#\n",
        "# layer_output *= 0.5\n",
        "#"
      ],
      "execution_count": null,
      "outputs": []
    },
    {
      "cell_type": "markdown",
      "metadata": {
        "id": "I-s0tKdSWpMk"
      },
      "source": [
        "\n",
        "Note that this process can be implemented by doing both operations at training time and leaving the output unchanged at test time, which is \n",
        "often the way it is implemented in practice:"
      ]
    },
    {
      "cell_type": "code",
      "metadata": {
        "id": "Q9T9DGhNWqli"
      },
      "source": [
        "## CODE SNIPPET\n",
        "## At training time:\n",
        "#\n",
        "# layer_output *= np.randint(0, high=2, size=layer_output.shape)\n",
        "#\n",
        "## Note that we are scaling *up* rather scaling *down* in this case\n",
        "#\n",
        "# layer_output /= 0.5\n",
        "#"
      ],
      "execution_count": null,
      "outputs": []
    },
    {
      "cell_type": "markdown",
      "metadata": {
        "id": "VW_8MPT9WtMn"
      },
      "source": [
        "\n",
        "This technique may seem strange and arbitrary. Why would this help reduce overfitting? Geoff Hinton has said that he was inspired, among \n",
        "other things, by a fraud prevention mechanism used by banks -- in his own words: _\"I went to my bank. The tellers kept changing and I asked \n",
        "one of them why. He said he didn’t know but they got moved around a lot. I figured it must be because it would require cooperation \n",
        "between employees to successfully defraud the bank. This made me realize that randomly removing a different subset of neurons on each \n",
        "example would prevent conspiracies and thus reduce overfitting\"_.\n",
        "\n",
        "The core idea is that introducing noise in the output values of a layer can break up happenstance patterns that are not significant (what \n",
        "Hinton refers to as \"conspiracies\"), which the network would start memorizing if no noise was present. \n",
        "\n",
        "In Keras you can introduce dropout in a network via the `Dropout` layer, which gets applied to the output of layer right before it, e.g.:"
      ]
    },
    {
      "cell_type": "code",
      "metadata": {
        "id": "leQ9f3g3YT2t"
      },
      "source": [
        "## CODE SNIPPET\n",
        "#\n",
        "# model.add(layers.Dropout(0.5))\n",
        "#"
      ],
      "execution_count": null,
      "outputs": []
    },
    {
      "cell_type": "markdown",
      "metadata": {
        "id": "krcmfPKGWvGs"
      },
      "source": [
        "Let's add two `Dropout` layers in our IMDB network to see how well they do at reducing overfitting:"
      ]
    },
    {
      "cell_type": "code",
      "metadata": {
        "id": "bm_dFWS3WwFp"
      },
      "source": [
        "dpt_model = models.Sequential()\n",
        "dpt_model.add(layers.Dense(16, activation='relu', input_shape=(10000,)))\n",
        "dpt_model.add(layers.Dropout(0.5))\n",
        "dpt_model.add(layers.Dense(16, activation='relu'))\n",
        "dpt_model.add(layers.Dropout(0.5))\n",
        "dpt_model.add(layers.Dense(1, activation='sigmoid'))\n",
        "\n",
        "dpt_model.compile(optimizer='rmsprop',\n",
        "                  loss='binary_crossentropy',\n",
        "                  metrics=['acc'])"
      ],
      "execution_count": null,
      "outputs": []
    },
    {
      "cell_type": "code",
      "metadata": {
        "id": "8MxLEv5EWxCy"
      },
      "source": [
        "dpt_model_hist = dpt_model.fit(x_train, y_train,\n",
        "                               epochs=20,\n",
        "                               batch_size=512,\n",
        "                               validation_data=(x_test, y_test))"
      ],
      "execution_count": null,
      "outputs": []
    },
    {
      "cell_type": "code",
      "source": [
        "gc.collect()"
      ],
      "metadata": {
        "id": "8j9M8uyTbwtg"
      },
      "execution_count": null,
      "outputs": []
    },
    {
      "cell_type": "markdown",
      "metadata": {
        "id": "We61WNRqWyse"
      },
      "source": [
        "Let's plot the results:"
      ]
    },
    {
      "cell_type": "code",
      "metadata": {
        "id": "uTtLY6DtWznW"
      },
      "source": [
        "dpt_model_val_loss = dpt_model_hist.history['val_loss']\n",
        "\n",
        "def modelplot_Drop():\n",
        "  sns.scatterplot(x=epochs, y=original_val_loss, color=\"b\", marker='x', label='Original model')\n",
        "  sns.scatterplot(x=epochs, y=dpt_model_val_loss, color=\"b\", marker='o', label='Dropout-regularized model')\n",
        "  plt.xlabel('Epochs')\n",
        "  plt.ylabel('Validation loss')\n",
        "  plt.legend()\n",
        "\n",
        "modelplot_Drop()"
      ],
      "execution_count": null,
      "outputs": []
    },
    {
      "cell_type": "markdown",
      "metadata": {
        "id": "1BJnemLsajtU"
      },
      "source": [
        "# Conclusions"
      ]
    },
    {
      "cell_type": "markdown",
      "metadata": {
        "id": "gxvDqt7KW0t7"
      },
      "source": [
        "\n",
        "Again, a clear improvement over the reference network.\n",
        "\n",
        "To recap: here the most common ways to prevent overfitting in neural networks:\n",
        "\n",
        "* Getting more training data.\n",
        "* Reducing the capacity of the network.\n",
        "* Adding weight regularization.\n",
        "* Adding dropout\n",
        "\n",
        "\n",
        "Finally, let's take a look at all our results to see how the models compare. Notice the patterns of loss among the different models with under and over fitting constraints. "
      ]
    },
    {
      "cell_type": "code",
      "metadata": {
        "id": "YukYx8we6MzG"
      },
      "source": [
        "# Layout all plots into one figure for easy comparison\n",
        "\n",
        "f = plt.figure(figsize=(20, 10))\n",
        "gs = f.add_gridspec(3, 3)\n",
        "\n",
        "f.suptitle('Comparisons of Loss: Underfitting v Overfitting')\n",
        "\n",
        "sns.set_palette(\"flare\", n_colors=8, color_codes=True)\n",
        "sns.set_color_codes(palette='bright')\n",
        "\n",
        "original_diff = np.subtract(original_val_loss, original_train_loss)\n",
        "smaller_diff = np.subtract(smaller_model_val_loss, smaller_model_train_loss)\n",
        "bigger_diff = np.subtract(bigger_model_val_loss, bigger_model_train_loss)\n",
        "\n",
        "with sns.axes_style(\"darkgrid\", {\"axes.facecolor\": \".9\"}):\n",
        "    sns.set_context(\"talk\")\n",
        "    ax1 = f.add_subplot(gs[0, 0])\n",
        "    sns.scatterplot(x=epochs, y=original_val_loss, color=\"g\", marker='X', label='Original model')\n",
        "    sns.scatterplot(x=epochs, y=smaller_model_val_loss, color=\"c\", marker='o', label='Smaller model')\n",
        "    plt.setp(ax1.get_xticklabels(), visible=False)\n",
        "\n",
        "with sns.axes_style(\"darkgrid\", {\"axes.facecolor\": \".9\"}):\n",
        "    sns.set_context(\"talk\")\n",
        "    ax2 = f.add_subplot(gs[0, 1])\n",
        "    sns.scatterplot(x=epochs, y=original_train_loss, color=\"g\", marker='X')\n",
        "    sns.scatterplot(x=epochs, y=smaller_model_train_loss, color=\"c\", marker='o')\n",
        "    plt.setp(ax2.get_xticklabels(), visible=False)\n",
        "\n",
        "with sns.axes_style(\"darkgrid\", {\"axes.facecolor\": \".9\"}):\n",
        "    sns.set_context(\"talk\")\n",
        "    ax3 = f.add_subplot(gs[0, 2])\n",
        "    sns.scatterplot(x=epochs, y=original_diff, color=\"g\", marker='X')\n",
        "    sns.scatterplot(x=epochs, y=smaller_diff, color=\"c\", marker='o')\n",
        "    plt.setp(ax3.get_xticklabels(), visible=False)  \n",
        "\n",
        "with sns.axes_style(\"darkgrid\", {\"axes.facecolor\": \".9\"}):\n",
        "    sns.set_context(\"talk\")\n",
        "    ax4 = f.add_subplot(gs[1, 0])\n",
        "    sns.scatterplot(x=epochs, y=original_val_loss, color=\"g\", marker='X')\n",
        "    sns.scatterplot(x=epochs, y=bigger_model_val_loss, color=\"m\", marker='o', label='Bigger model')\n",
        "    plt.setp(ax4.get_xticklabels(), visible=False)\n",
        "\n",
        "with sns.axes_style(\"darkgrid\", {\"axes.facecolor\": \".9\"}):\n",
        "    sns.set_context(\"talk\")\n",
        "    ax5 = f.add_subplot(gs[1, 1])\n",
        "    sns.scatterplot(x=epochs, y=original_train_loss, color=\"g\", marker='X')\n",
        "    sns.scatterplot(x=epochs, y=bigger_model_train_loss, color=\"m\", marker='o')\n",
        "    plt.setp(ax5.get_xticklabels(), visible=False)\n",
        "\n",
        "with sns.axes_style(\"darkgrid\", {\"axes.facecolor\": \".9\"}):\n",
        "    sns.set_context(\"talk\")\n",
        "    ax6 = f.add_subplot(gs[1, 2])\n",
        "    sns.scatterplot(x=epochs, y=original_diff, color=\"g\", marker='X')\n",
        "    sns.scatterplot(x=epochs, y=bigger_diff, color=\"m\", marker='o')\n",
        "    plt.setp(ax6.get_xticklabels(), visible=False)\n",
        "\n",
        "with sns.axes_style(\"darkgrid\", {\"axes.facecolor\": \".9\"}):\n",
        "    sns.set_context(\"talk\")\n",
        "    ax7 = f.add_subplot(gs[2, 0])\n",
        "    sns.scatterplot(x=epochs, y=original_val_loss, color=\"g\", marker='X')\n",
        "    sns.scatterplot(x=epochs, y=l1_model_val_loss, color=\"pink\", marker='o', label='L1-regularized model')\n",
        "\n",
        "with sns.axes_style(\"darkgrid\", {\"axes.facecolor\": \".9\"}):\n",
        "    sns.set_context(\"talk\")\n",
        "    ax8 = f.add_subplot(gs[2, 1])\n",
        "    sns.scatterplot(x=epochs, y=original_val_loss, color=\"g\", marker='X')\n",
        "    sns.scatterplot(x=epochs, y=l2_model_val_loss, color=\"pink\", marker='o', label='L2-regularized model')\n",
        "    plt.setp(ax8.get_yticklabels(), visible=False)  \n",
        "\n",
        "with sns.axes_style(\"darkgrid\", {\"axes.facecolor\": \".9\"}):\n",
        "    sns.set_context(\"talk\")\n",
        "    ax9 = f.add_subplot(gs[2, 2])\n",
        "    sns.scatterplot(x=epochs, y=original_val_loss, color=\"g\", marker='X')\n",
        "    sns.scatterplot(x=epochs, y=dpt_model_val_loss, color=\"y\", marker='o', label='Dropout-regularized model')\n",
        "    plt.setp(ax9.get_yticklabels(), visible=False)\n",
        "\n",
        "ax7.set(xlabel='Epochs')\n",
        "ax8.set(xlabel='Epochs')\n",
        "ax9.set(xlabel='Epochs')\n",
        "\n",
        "ax1.set(ylabel='Validation loss')\n",
        "ax4.set(ylabel='Validation loss')\n",
        "ax7.set(ylabel='Validation loss')\n",
        "\n",
        "ax2.set(ylabel='Training loss')\n",
        "ax5.set(ylabel='Training loss')\n",
        "\n",
        "ax3.set(ylabel='Loss difference')\n",
        "ax6.set(ylabel='Loss difference')\n",
        "\n",
        "f.align_labels()"
      ],
      "execution_count": null,
      "outputs": []
    },
    {
      "cell_type": "markdown",
      "metadata": {
        "id": "UlkIAEBRcbgy"
      },
      "source": [
        "\n",
        "# Lab Questions\n",
        "\n",
        "---\n"
      ]
    },
    {
      "cell_type": "markdown",
      "metadata": {
        "id": "pCWoJc0Sy6fA"
      },
      "source": [
        "**1. In your own words, briefly define overfitting, underfitting, good fit, regularization. Provide a sketch indicating a sample data set, an over-fit curve, an under-fit curve and a good fit curve.** (4 marks)"
      ]
    },
    {
      "cell_type": "markdown",
      "metadata": {
        "id": "OxTteoZky_RL"
      },
      "source": [
        "*Write answer here*"
      ]
    },
    {
      "cell_type": "markdown",
      "metadata": {
        "id": "XqgLO9aCzAl_"
      },
      "source": [
        "**2. Where can we introduce noise into a network? Why there? Can we introduce noise in multiple areas of a network? Why or why not?** (2 marks)"
      ]
    },
    {
      "cell_type": "markdown",
      "metadata": {
        "id": "uzX4GTQPzE1Z"
      },
      "source": [
        "\n",
        "*Write answer here*"
      ]
    },
    {
      "cell_type": "markdown",
      "metadata": {
        "id": "Vgmw_aoqzF5r"
      },
      "source": [
        "**3. What are the most common ways to prevent overfitting and provide an example of each.** (4 marks)"
      ]
    },
    {
      "cell_type": "markdown",
      "metadata": {
        "id": "OWEdRJFizKzW"
      },
      "source": [
        "*Write answer here*"
      ]
    },
    {
      "cell_type": "markdown",
      "metadata": {
        "id": "kndUKqi0zSTb"
      },
      "source": [
        "**4. What is the cost added proportional to in L1 and in L2 regularization?** (1 mark)"
      ]
    },
    {
      "cell_type": "markdown",
      "metadata": {
        "id": "gfYJs8STzWbj"
      },
      "source": [
        "*Write answer here*"
      ]
    },
    {
      "cell_type": "markdown",
      "metadata": {
        "id": "2lO5O3ULzXj_"
      },
      "source": [
        "**5. Describe the steps involved to find the right model size for a given set of data.** (5 marks)"
      ]
    },
    {
      "cell_type": "markdown",
      "metadata": {
        "id": "yY-okHRSzcqA"
      },
      "source": [
        "*Write answer here*"
      ]
    },
    {
      "cell_type": "markdown",
      "metadata": {
        "id": "wDD1tQeozdyN"
      },
      "source": [
        "**6. What is meant by bias in a network? What happens when a model has a High Bias? What is this an example of (overfitting or underfitting)?** (2 marks)"
      ]
    },
    {
      "cell_type": "markdown",
      "metadata": {
        "id": "gftW_kmTziA9"
      },
      "source": [
        "*Write answer here*"
      ]
    },
    {
      "cell_type": "markdown",
      "metadata": {
        "id": "5-aTiWJ_znSx"
      },
      "source": [
        "**7. What is meant by “variance” in a network? What happens when a model has High Variance? What is this an example of (overfitting or underfitting)?** (2 marks)"
      ]
    },
    {
      "cell_type": "markdown",
      "metadata": {
        "id": "3TEOtSPez2Qv"
      },
      "source": [
        "*Write answer here*\n"
      ]
    },
    {
      "cell_type": "markdown",
      "metadata": {
        "id": "GcAaCHPXzrh8"
      },
      "source": [
        "**8. Read the following article: https://www.theregister.com/2020/07/01/mit_dataset_removed/\n",
        "Describe a scenario in which biased datasets and models could affect your life negatively. Describe a scenario that does NOT affect your life but could have a negative impact on someone else’s life. What factors must be monitored to prevent biased datasets and models from exhibiting unexpected negative behaviour?** (5 marks)"
      ]
    },
    {
      "cell_type": "markdown",
      "metadata": {
        "id": "xIKdd0ghz00x"
      },
      "source": [
        "*Write answer here*\n"
      ]
    }
  ]
}